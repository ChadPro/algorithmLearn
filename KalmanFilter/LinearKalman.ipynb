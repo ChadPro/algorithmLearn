{
 "cells": [
  {
   "cell_type": "code",
   "execution_count": 15,
   "metadata": {},
   "outputs": [],
   "source": [
    "import numpy as np"
   ]
  },
  {
   "cell_type": "code",
   "execution_count": 35,
   "metadata": {},
   "outputs": [],
   "source": [
    "position = np.array([0., 0.], dtype=float)\n",
    "velocity = np.array([1., 2.], dtype=float)\n",
    "\n",
    "x = np.array([position, \\\n",
    "              velocity])\n",
    "p = np.array([[0., 0.],[0., 0.]])"
   ]
  },
  {
   "cell_type": "code",
   "execution_count": 36,
   "metadata": {},
   "outputs": [
    {
     "name": "stdout",
     "output_type": "stream",
     "text": [
      "[[2.  3.5]\n",
      " [3.  5. ]]\n",
      "[[0.  0. ]\n",
      " [0.  0.5]]\n"
     ]
    }
   ],
   "source": [
    "def systemAction(x_now, p_now, dt):\n",
    "    \n",
    "    # calculate x\n",
    "    Fk = np.array([[1., dt],  \\\n",
    "                   [0., 1.]])\n",
    "    u = np.array([2.,3.], dtype=float)\n",
    "    Bk = np.array([[dt*dt/2.],  \\\n",
    "                   [dt]])\n",
    "    \n",
    "    x_next_k = np.dot(Fk, x_now) + Bk * u\n",
    "    \n",
    "    # calculate Pk\n",
    "    Pk = np.cov(x_now)\n",
    "#     Pk_next_k = Fk * Pk * Fk.T\n",
    "    \n",
    "    return x_next_k\n",
    "\n",
    "x = systemAction(x, 1)\n",
    "print x"
   ]
  },
  {
   "cell_type": "code",
   "execution_count": null,
   "metadata": {},
   "outputs": [],
   "source": []
  },
  {
   "cell_type": "code",
   "execution_count": null,
   "metadata": {},
   "outputs": [],
   "source": []
  }
 ],
 "metadata": {
  "kernelspec": {
   "display_name": "Python 2",
   "language": "python",
   "name": "python2"
  },
  "language_info": {
   "codemirror_mode": {
    "name": "ipython",
    "version": 2
   },
   "file_extension": ".py",
   "mimetype": "text/x-python",
   "name": "python",
   "nbconvert_exporter": "python",
   "pygments_lexer": "ipython2",
   "version": "2.7.13"
  }
 },
 "nbformat": 4,
 "nbformat_minor": 2
}
