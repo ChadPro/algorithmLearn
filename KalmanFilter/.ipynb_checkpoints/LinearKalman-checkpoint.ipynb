{
 "cells": [
  {
   "cell_type": "code",
   "execution_count": 1,
   "metadata": {
    "collapsed": true
   },
   "outputs": [],
   "source": [
    "import numpy as np\n",
    "import matplotlib.pyplot as plt"
   ]
  },
  {
   "cell_type": "code",
   "execution_count": 2,
   "metadata": {
    "collapsed": true
   },
   "outputs": [],
   "source": [
    "# action model, we have position and velocity in 2-D(x,y)\n",
    "position = np.array([0., 0.], dtype=float)\n",
    "velocity = np.array([1., 2.], dtype=float)\n",
    "\n",
    "x = np.array([position, \\\n",
    "              velocity])\n",
    "p = np.array([[0., 0.],[0., 0.]])\n",
    "Q = 5\n",
    "\n",
    "n_iter = 10\n",
    "x_array = np.zeros((n_iter,2,2))"
   ]
  },
  {
   "cell_type": "code",
   "execution_count": 3,
   "metadata": {},
   "outputs": [
    {
     "data": {
      "image/png": "[encoded data removed]",
      "text/plain": [
       "<matplotlib.figure.Figure at 0x7f753c74b690>"
      ]
     },
     "metadata": {},
     "output_type": "display_data"
    }
   ],
   "source": [
    "def systemAction(x_now, p_now, dt):\n",
    "    \n",
    "    #0.1 calculate x\n",
    "    Fk = np.array([[1., dt],  \\\n",
    "                   [0., 1.]])\n",
    "    u = np.array([2.,3.], dtype=float)\n",
    "    Bk = np.array([[dt*dt/2.],  \\\n",
    "                   [dt]])\n",
    "    \n",
    "    x_next_k = np.dot(Fk, x_now) + Bk * u\n",
    "    \n",
    "    #0.2 calculate Pk\n",
    "    Pk = p_now\n",
    "    Pk_next_k = Fk * Pk * Fk.T + Q\n",
    "    \n",
    "    #0.3 update\n",
    "    u = np.random.normal(loc=x_next_k, scale=2, size=None)\n",
    "    Rk = 2\n",
    "    K = Pk_next_k/(Pk_next_k + Rk)\n",
    "    x_next = x_next_k + K*(u - x_next_k)\n",
    "    Pk_next = Pk_next_k - K*Pk_next_k\n",
    "    \n",
    "    return x_next, Pk_next\n",
    "\n",
    "# n_iter\n",
    "for k in range(0, n_iter):\n",
    "    x_array[k] = x\n",
    "    x, p = systemAction(x, p, 1)\n",
    "\n",
    "position_array = x_array[:,0:1]\n",
    "position_array = position_array.reshape(n_iter,2)\n",
    "velocity_array = x_array[:,1]\n",
    "\n",
    "\n",
    "position_array_x = position_array[:, 0]\n",
    "position_array_y = position_array[:, 1]\n",
    "\n",
    "plt.plot(position_array_x, position_array_y)\n",
    "plt.show()"
   ]
  },
  {
   "cell_type": "code",
   "execution_count": null,
   "metadata": {
    "collapsed": true
   },
   "outputs": [],
   "source": []
  }
 ],
 "metadata": {
  "kernelspec": {
   "display_name": "Python 2",
   "language": "python",
   "name": "python2"
  },
  "language_info": {
   "codemirror_mode": {
    "name": "ipython",
    "version": 2
   },
   "file_extension": ".py",
   "mimetype": "text/x-python",
   "name": "python",
   "nbconvert_exporter": "python",
   "pygments_lexer": "ipython2",
   "version": "2.7.12"
  }
 },
 "nbformat": 4,
 "nbformat_minor": 2
}
