{
 "cells": [
  {
   "cell_type": "code",
   "execution_count": 1,
   "metadata": {},
   "outputs": [],
   "source": [
    "import numpy as np"
   ]
  },
  {
   "cell_type": "code",
   "execution_count": 4,
   "metadata": {},
   "outputs": [],
   "source": [
    "position = np.array([0., 0.], dtype=float)\n",
    "velocity = np.array([1., 2.], dtype=float)\n",
    "\n",
    "x = np.array([position, \\\n",
    "              velocity])"
   ]
  },
  {
   "cell_type": "code",
   "execution_count": 8,
   "metadata": {},
   "outputs": [
    {
     "name": "stdout",
     "output_type": "stream",
     "text": [
      "[[1. 2.]\n",
      " [1. 2.]]\n",
      "[[2. 4.]\n",
      " [1. 2.]]\n"
     ]
    }
   ],
   "source": [
    "def systemAction(x_now, dt):\n",
    "    Fk = np.array([[1., dt],  \\\n",
    "                   [0., 1.]])\n",
    "\n",
    "    x_next_k = np.dot(Fk, x_now)\n",
    "    \n",
    "    return x_next_k\n",
    "\n",
    "x = systemAction(x, 1.0)\n",
    "print x\n",
    "x = systemAction(x, 1.0)\n",
    "print x"
   ]
  },
  {
   "cell_type": "code",
   "execution_count": null,
   "metadata": {},
   "outputs": [],
   "source": []
  }
 ],
 "metadata": {
  "kernelspec": {
   "display_name": "Python 2",
   "language": "python",
   "name": "python2"
  },
  "language_info": {
   "codemirror_mode": {
    "name": "ipython",
    "version": 2
   },
   "file_extension": ".py",
   "mimetype": "text/x-python",
   "name": "python",
   "nbconvert_exporter": "python",
   "pygments_lexer": "ipython2",
   "version": "2.7.13"
  }
 },
 "nbformat": 4,
 "nbformat_minor": 2
}
